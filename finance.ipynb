{
 "cells": [
  {
   "cell_type": "code",
   "execution_count": 1,
   "metadata": {},
   "outputs": [],
   "source": [
    "import pandas as pd\n",
    "import numpy as np\n",
    "import matplotlib.pyplot as plt\n",
    "import datetime"
   ]
  },
  {
   "cell_type": "code",
   "execution_count": 2,
   "metadata": {},
   "outputs": [],
   "source": [
    "from pandas_datareader import data as pdr\n",
    "\n",
    "aapl = pdr.get_data_yahoo(\"AAPL\",\n",
    "                         start = datetime.datetime(2000, 1,1),\n",
    "                         end = datetime.datetime(2019, 7, 1))"
   ]
  },
  {
   "cell_type": "code",
   "execution_count": 3,
   "metadata": {},
   "outputs": [
    {
     "data": {
      "text/html": [
       "<div>\n",
       "<style scoped>\n",
       "    .dataframe tbody tr th:only-of-type {\n",
       "        vertical-align: middle;\n",
       "    }\n",
       "\n",
       "    .dataframe tbody tr th {\n",
       "        vertical-align: top;\n",
       "    }\n",
       "\n",
       "    .dataframe thead th {\n",
       "        text-align: right;\n",
       "    }\n",
       "</style>\n",
       "<table border=\"1\" class=\"dataframe\">\n",
       "  <thead>\n",
       "    <tr style=\"text-align: right;\">\n",
       "      <th></th>\n",
       "      <th>High</th>\n",
       "      <th>Low</th>\n",
       "      <th>Open</th>\n",
       "      <th>Close</th>\n",
       "      <th>Volume</th>\n",
       "      <th>Adj Close</th>\n",
       "    </tr>\n",
       "    <tr>\n",
       "      <th>Date</th>\n",
       "      <th></th>\n",
       "      <th></th>\n",
       "      <th></th>\n",
       "      <th></th>\n",
       "      <th></th>\n",
       "      <th></th>\n",
       "    </tr>\n",
       "  </thead>\n",
       "  <tbody>\n",
       "    <tr>\n",
       "      <th>1999-12-31</th>\n",
       "      <td>3.674107</td>\n",
       "      <td>3.553571</td>\n",
       "      <td>3.604911</td>\n",
       "      <td>3.671875</td>\n",
       "      <td>40952800.0</td>\n",
       "      <td>3.216668</td>\n",
       "    </tr>\n",
       "    <tr>\n",
       "      <th>2000-01-03</th>\n",
       "      <td>4.017857</td>\n",
       "      <td>3.631696</td>\n",
       "      <td>3.745536</td>\n",
       "      <td>3.997768</td>\n",
       "      <td>133949200.0</td>\n",
       "      <td>3.502161</td>\n",
       "    </tr>\n",
       "    <tr>\n",
       "      <th>2000-01-04</th>\n",
       "      <td>3.950893</td>\n",
       "      <td>3.613839</td>\n",
       "      <td>3.866071</td>\n",
       "      <td>3.660714</td>\n",
       "      <td>128094400.0</td>\n",
       "      <td>3.206892</td>\n",
       "    </tr>\n",
       "    <tr>\n",
       "      <th>2000-01-05</th>\n",
       "      <td>3.948661</td>\n",
       "      <td>3.678571</td>\n",
       "      <td>3.705357</td>\n",
       "      <td>3.714286</td>\n",
       "      <td>194580400.0</td>\n",
       "      <td>3.253822</td>\n",
       "    </tr>\n",
       "    <tr>\n",
       "      <th>2000-01-06</th>\n",
       "      <td>3.821429</td>\n",
       "      <td>3.392857</td>\n",
       "      <td>3.790179</td>\n",
       "      <td>3.392857</td>\n",
       "      <td>191993200.0</td>\n",
       "      <td>2.972241</td>\n",
       "    </tr>\n",
       "    <tr>\n",
       "      <th>2000-01-07</th>\n",
       "      <td>3.607143</td>\n",
       "      <td>3.410714</td>\n",
       "      <td>3.446429</td>\n",
       "      <td>3.553571</td>\n",
       "      <td>115183600.0</td>\n",
       "      <td>3.113032</td>\n",
       "    </tr>\n",
       "    <tr>\n",
       "      <th>2000-01-10</th>\n",
       "      <td>3.651786</td>\n",
       "      <td>3.383929</td>\n",
       "      <td>3.642857</td>\n",
       "      <td>3.491071</td>\n",
       "      <td>126266000.0</td>\n",
       "      <td>3.058280</td>\n",
       "    </tr>\n",
       "    <tr>\n",
       "      <th>2000-01-11</th>\n",
       "      <td>3.549107</td>\n",
       "      <td>3.232143</td>\n",
       "      <td>3.426339</td>\n",
       "      <td>3.312500</td>\n",
       "      <td>110387200.0</td>\n",
       "      <td>2.901846</td>\n",
       "    </tr>\n",
       "    <tr>\n",
       "      <th>2000-01-12</th>\n",
       "      <td>3.410714</td>\n",
       "      <td>3.089286</td>\n",
       "      <td>3.392857</td>\n",
       "      <td>3.113839</td>\n",
       "      <td>244017200.0</td>\n",
       "      <td>2.727814</td>\n",
       "    </tr>\n",
       "    <tr>\n",
       "      <th>2000-01-13</th>\n",
       "      <td>3.526786</td>\n",
       "      <td>3.303571</td>\n",
       "      <td>3.374442</td>\n",
       "      <td>3.455357</td>\n",
       "      <td>258171200.0</td>\n",
       "      <td>3.026993</td>\n",
       "    </tr>\n",
       "  </tbody>\n",
       "</table>\n",
       "</div>"
      ],
      "text/plain": [
       "                High       Low      Open     Close       Volume  Adj Close\n",
       "Date                                                                      \n",
       "1999-12-31  3.674107  3.553571  3.604911  3.671875   40952800.0   3.216668\n",
       "2000-01-03  4.017857  3.631696  3.745536  3.997768  133949200.0   3.502161\n",
       "2000-01-04  3.950893  3.613839  3.866071  3.660714  128094400.0   3.206892\n",
       "2000-01-05  3.948661  3.678571  3.705357  3.714286  194580400.0   3.253822\n",
       "2000-01-06  3.821429  3.392857  3.790179  3.392857  191993200.0   2.972241\n",
       "2000-01-07  3.607143  3.410714  3.446429  3.553571  115183600.0   3.113032\n",
       "2000-01-10  3.651786  3.383929  3.642857  3.491071  126266000.0   3.058280\n",
       "2000-01-11  3.549107  3.232143  3.426339  3.312500  110387200.0   2.901846\n",
       "2000-01-12  3.410714  3.089286  3.392857  3.113839  244017200.0   2.727814\n",
       "2000-01-13  3.526786  3.303571  3.374442  3.455357  258171200.0   3.026993"
      ]
     },
     "execution_count": 3,
     "metadata": {},
     "output_type": "execute_result"
    }
   ],
   "source": [
    "aapl.head(10)"
   ]
  },
  {
   "cell_type": "code",
   "execution_count": 4,
   "metadata": {},
   "outputs": [
    {
     "data": {
      "text/html": [
       "<div>\n",
       "<style scoped>\n",
       "    .dataframe tbody tr th:only-of-type {\n",
       "        vertical-align: middle;\n",
       "    }\n",
       "\n",
       "    .dataframe tbody tr th {\n",
       "        vertical-align: top;\n",
       "    }\n",
       "\n",
       "    .dataframe thead th {\n",
       "        text-align: right;\n",
       "    }\n",
       "</style>\n",
       "<table border=\"1\" class=\"dataframe\">\n",
       "  <thead>\n",
       "    <tr style=\"text-align: right;\">\n",
       "      <th></th>\n",
       "      <th>High</th>\n",
       "      <th>Low</th>\n",
       "      <th>Open</th>\n",
       "      <th>Close</th>\n",
       "      <th>Volume</th>\n",
       "      <th>Adj Close</th>\n",
       "    </tr>\n",
       "    <tr>\n",
       "      <th>Date</th>\n",
       "      <th></th>\n",
       "      <th></th>\n",
       "      <th></th>\n",
       "      <th></th>\n",
       "      <th></th>\n",
       "      <th></th>\n",
       "    </tr>\n",
       "  </thead>\n",
       "  <tbody>\n",
       "    <tr>\n",
       "      <th>2019-06-18</th>\n",
       "      <td>200.289993</td>\n",
       "      <td>195.210007</td>\n",
       "      <td>196.050003</td>\n",
       "      <td>198.449997</td>\n",
       "      <td>26551000.0</td>\n",
       "      <td>198.449997</td>\n",
       "    </tr>\n",
       "    <tr>\n",
       "      <th>2019-06-19</th>\n",
       "      <td>199.880005</td>\n",
       "      <td>197.309998</td>\n",
       "      <td>199.679993</td>\n",
       "      <td>197.869995</td>\n",
       "      <td>21124200.0</td>\n",
       "      <td>197.869995</td>\n",
       "    </tr>\n",
       "    <tr>\n",
       "      <th>2019-06-20</th>\n",
       "      <td>200.610001</td>\n",
       "      <td>198.029999</td>\n",
       "      <td>200.369995</td>\n",
       "      <td>199.460007</td>\n",
       "      <td>21514000.0</td>\n",
       "      <td>199.460007</td>\n",
       "    </tr>\n",
       "    <tr>\n",
       "      <th>2019-06-21</th>\n",
       "      <td>200.850006</td>\n",
       "      <td>198.149994</td>\n",
       "      <td>198.800003</td>\n",
       "      <td>198.779999</td>\n",
       "      <td>47800600.0</td>\n",
       "      <td>198.779999</td>\n",
       "    </tr>\n",
       "    <tr>\n",
       "      <th>2019-06-24</th>\n",
       "      <td>200.160004</td>\n",
       "      <td>198.169998</td>\n",
       "      <td>198.539993</td>\n",
       "      <td>198.580002</td>\n",
       "      <td>18220400.0</td>\n",
       "      <td>198.580002</td>\n",
       "    </tr>\n",
       "    <tr>\n",
       "      <th>2019-06-25</th>\n",
       "      <td>199.259995</td>\n",
       "      <td>195.289993</td>\n",
       "      <td>198.429993</td>\n",
       "      <td>195.570007</td>\n",
       "      <td>21070300.0</td>\n",
       "      <td>195.570007</td>\n",
       "    </tr>\n",
       "    <tr>\n",
       "      <th>2019-06-26</th>\n",
       "      <td>200.990005</td>\n",
       "      <td>197.350006</td>\n",
       "      <td>197.770004</td>\n",
       "      <td>199.800003</td>\n",
       "      <td>26067500.0</td>\n",
       "      <td>199.800003</td>\n",
       "    </tr>\n",
       "    <tr>\n",
       "      <th>2019-06-27</th>\n",
       "      <td>201.570007</td>\n",
       "      <td>199.570007</td>\n",
       "      <td>200.289993</td>\n",
       "      <td>199.740005</td>\n",
       "      <td>20899700.0</td>\n",
       "      <td>199.740005</td>\n",
       "    </tr>\n",
       "    <tr>\n",
       "      <th>2019-06-28</th>\n",
       "      <td>199.500000</td>\n",
       "      <td>197.050003</td>\n",
       "      <td>198.679993</td>\n",
       "      <td>197.919998</td>\n",
       "      <td>31110600.0</td>\n",
       "      <td>197.919998</td>\n",
       "    </tr>\n",
       "    <tr>\n",
       "      <th>2019-07-01</th>\n",
       "      <td>204.490005</td>\n",
       "      <td>200.649994</td>\n",
       "      <td>203.169998</td>\n",
       "      <td>201.550003</td>\n",
       "      <td>27316700.0</td>\n",
       "      <td>201.550003</td>\n",
       "    </tr>\n",
       "  </tbody>\n",
       "</table>\n",
       "</div>"
      ],
      "text/plain": [
       "                  High         Low        Open       Close      Volume  \\\n",
       "Date                                                                     \n",
       "2019-06-18  200.289993  195.210007  196.050003  198.449997  26551000.0   \n",
       "2019-06-19  199.880005  197.309998  199.679993  197.869995  21124200.0   \n",
       "2019-06-20  200.610001  198.029999  200.369995  199.460007  21514000.0   \n",
       "2019-06-21  200.850006  198.149994  198.800003  198.779999  47800600.0   \n",
       "2019-06-24  200.160004  198.169998  198.539993  198.580002  18220400.0   \n",
       "2019-06-25  199.259995  195.289993  198.429993  195.570007  21070300.0   \n",
       "2019-06-26  200.990005  197.350006  197.770004  199.800003  26067500.0   \n",
       "2019-06-27  201.570007  199.570007  200.289993  199.740005  20899700.0   \n",
       "2019-06-28  199.500000  197.050003  198.679993  197.919998  31110600.0   \n",
       "2019-07-01  204.490005  200.649994  203.169998  201.550003  27316700.0   \n",
       "\n",
       "             Adj Close  \n",
       "Date                    \n",
       "2019-06-18  198.449997  \n",
       "2019-06-19  197.869995  \n",
       "2019-06-20  199.460007  \n",
       "2019-06-21  198.779999  \n",
       "2019-06-24  198.580002  \n",
       "2019-06-25  195.570007  \n",
       "2019-06-26  199.800003  \n",
       "2019-06-27  199.740005  \n",
       "2019-06-28  197.919998  \n",
       "2019-07-01  201.550003  "
      ]
     },
     "execution_count": 4,
     "metadata": {},
     "output_type": "execute_result"
    }
   ],
   "source": [
    "aapl.tail(10)"
   ]
  },
  {
   "cell_type": "code",
   "execution_count": 5,
   "metadata": {},
   "outputs": [
    {
     "data": {
      "text/plain": [
       "DatetimeIndex(['1999-12-31', '2000-01-03', '2000-01-04', '2000-01-05',\n",
       "               '2000-01-06', '2000-01-07', '2000-01-10', '2000-01-11',\n",
       "               '2000-01-12', '2000-01-13',\n",
       "               ...\n",
       "               '2019-06-18', '2019-06-19', '2019-06-20', '2019-06-21',\n",
       "               '2019-06-24', '2019-06-25', '2019-06-26', '2019-06-27',\n",
       "               '2019-06-28', '2019-07-01'],\n",
       "              dtype='datetime64[ns]', name='Date', length=4905, freq=None)"
      ]
     },
     "execution_count": 5,
     "metadata": {},
     "output_type": "execute_result"
    }
   ],
   "source": [
    "aapl.index"
   ]
  },
  {
   "cell_type": "code",
   "execution_count": 6,
   "metadata": {},
   "outputs": [
    {
     "data": {
      "text/plain": [
       "Index(['High', 'Low', 'Open', 'Close', 'Volume', 'Adj Close'], dtype='object')"
      ]
     },
     "execution_count": 6,
     "metadata": {},
     "output_type": "execute_result"
    }
   ],
   "source": [
    "aapl.columns"
   ]
  },
  {
   "cell_type": "code",
   "execution_count": 7,
   "metadata": {},
   "outputs": [
    {
     "name": "stdout",
     "output_type": "stream",
     "text": [
      "                  High         Low        Open       Close      Volume  \\\n",
      "Date                                                                     \n",
      "2019-01-02  158.850006  154.229996  154.889999  157.919998  37039700.0   \n",
      "2019-01-03  145.720001  142.000000  143.979996  142.190002  91312200.0   \n",
      "2019-01-04  148.550003  143.800003  144.529999  148.259995  58607100.0   \n",
      "2019-01-07  148.830002  145.899994  148.699997  147.929993  54777800.0   \n",
      "2019-01-08  151.820007  148.520004  149.559998  150.750000  41025300.0   \n",
      "\n",
      "             Adj Close  \n",
      "Date                    \n",
      "2019-01-02  156.642365  \n",
      "2019-01-03  141.039642  \n",
      "2019-01-04  147.060516  \n",
      "2019-01-07  146.733185  \n",
      "2019-01-08  149.530380  \n"
     ]
    }
   ],
   "source": [
    "print(aapl.loc['2019'].head())"
   ]
  },
  {
   "cell_type": "code",
   "execution_count": 10,
   "metadata": {},
   "outputs": [
    {
     "data": {
      "image/png": "[encoded data removed]",
      "text/plain": [
       "<Figure size 720x432 with 1 Axes>"
      ]
     },
     "metadata": {
      "needs_background": "light"
     },
     "output_type": "display_data"
    }
   ],
   "source": [
    "aapl['Close'].plot(grid=True)\n",
    "\n",
    "from pylab import rcParams\n",
    "rcParams['figure.figsize'] = 10, 8\n",
    "\n",
    "plt.show()"
   ]
  },
  {
   "cell_type": "code",
   "execution_count": 9,
   "metadata": {},
   "outputs": [
    {
     "data": {
      "image/png": "[encoded data removed]",
      "text/plain": [
       "<Figure size 720x432 with 1 Axes>"
      ]
     },
     "metadata": {
      "needs_background": "light"
     },
     "output_type": "display_data"
    }
   ],
   "source": [
    "aapl['Volume'].plot(grid=True)\n",
    "\n",
    "plt.show()"
   ]
  }
 ],
 "metadata": {
  "celltoolbar": "Raw Cell Format",
  "kernelspec": {
   "display_name": "Python 3",
   "language": "python",
   "name": "python3"
  },
  "language_info": {
   "codemirror_mode": {
    "name": "ipython",
    "version": 3
   },
   "file_extension": ".py",
   "mimetype": "text/x-python",
   "name": "python",
   "nbconvert_exporter": "python",
   "pygments_lexer": "ipython3",
   "version": "3.7.3"
  }
 },
 "nbformat": 4,
 "nbformat_minor": 2
}
